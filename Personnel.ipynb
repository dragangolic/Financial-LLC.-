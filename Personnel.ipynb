{
 "cells": [
  {
   "cell_type": "code",
   "execution_count": 5,
   "id": "548bd898",
   "metadata": {},
   "outputs": [],
   "source": [
    "import pandas as pd"
   ]
  },
  {
   "cell_type": "code",
   "execution_count": 14,
   "id": "e4b0d12b",
   "metadata": {},
   "outputs": [],
   "source": [
    "personnel_it = pd.DataFrame(\n",
    "{\n",
    "    \"Name\":[\"Tom, Dr. Disney\",\n",
    "           \"Jerry, Mr. Disney\",\n",
    "           \"Pluto, Disney\",\n",
    "           \"Clark, Kent\",\n",
    "           \"Rocky, Balboa\",\n",
    "           \"Ana, Miss. Still\",\n",
    "           \"B.G, Sugarche\",\n",
    "           ],\n",
    "    \"Age\":[97,97,97,60,47,25,27],\n",
    "    \"Sex\":[\"male\", \"male\", \"male\", \"male\", \"male\", \"female\", \"male\"],\n",
    "    \"Id\":[\"010\", \"011\", \"012\", \"013\", \"014\", \"003\", \"009\"],\n",
    "})"
   ]
  },
  {
   "cell_type": "code",
   "execution_count": 15,
   "id": "68a778cf",
   "metadata": {},
   "outputs": [
    {
     "data": {
      "text/html": [
       "<div>\n",
       "<style scoped>\n",
       "    .dataframe tbody tr th:only-of-type {\n",
       "        vertical-align: middle;\n",
       "    }\n",
       "\n",
       "    .dataframe tbody tr th {\n",
       "        vertical-align: top;\n",
       "    }\n",
       "\n",
       "    .dataframe thead th {\n",
       "        text-align: right;\n",
       "    }\n",
       "</style>\n",
       "<table border=\"1\" class=\"dataframe\">\n",
       "  <thead>\n",
       "    <tr style=\"text-align: right;\">\n",
       "      <th></th>\n",
       "      <th>Name</th>\n",
       "      <th>Age</th>\n",
       "      <th>Sex</th>\n",
       "      <th>Id</th>\n",
       "    </tr>\n",
       "  </thead>\n",
       "  <tbody>\n",
       "    <tr>\n",
       "      <th>0</th>\n",
       "      <td>Tom, Dr. Disney</td>\n",
       "      <td>97</td>\n",
       "      <td>male</td>\n",
       "      <td>010</td>\n",
       "    </tr>\n",
       "    <tr>\n",
       "      <th>1</th>\n",
       "      <td>Jerry, Mr. Disney</td>\n",
       "      <td>97</td>\n",
       "      <td>male</td>\n",
       "      <td>011</td>\n",
       "    </tr>\n",
       "    <tr>\n",
       "      <th>2</th>\n",
       "      <td>Pluto, Disney</td>\n",
       "      <td>97</td>\n",
       "      <td>male</td>\n",
       "      <td>012</td>\n",
       "    </tr>\n",
       "    <tr>\n",
       "      <th>3</th>\n",
       "      <td>Clark, Kent</td>\n",
       "      <td>60</td>\n",
       "      <td>male</td>\n",
       "      <td>013</td>\n",
       "    </tr>\n",
       "    <tr>\n",
       "      <th>4</th>\n",
       "      <td>Rocky, Balboa</td>\n",
       "      <td>47</td>\n",
       "      <td>male</td>\n",
       "      <td>014</td>\n",
       "    </tr>\n",
       "    <tr>\n",
       "      <th>5</th>\n",
       "      <td>Ana, Miss. Still</td>\n",
       "      <td>25</td>\n",
       "      <td>female</td>\n",
       "      <td>003</td>\n",
       "    </tr>\n",
       "    <tr>\n",
       "      <th>6</th>\n",
       "      <td>B.G, Sugarche</td>\n",
       "      <td>27</td>\n",
       "      <td>male</td>\n",
       "      <td>009</td>\n",
       "    </tr>\n",
       "  </tbody>\n",
       "</table>\n",
       "</div>"
      ],
      "text/plain": [
       "                Name  Age     Sex   Id\n",
       "0    Tom, Dr. Disney   97    male  010\n",
       "1  Jerry, Mr. Disney   97    male  011\n",
       "2      Pluto, Disney   97    male  012\n",
       "3        Clark, Kent   60    male  013\n",
       "4      Rocky, Balboa   47    male  014\n",
       "5   Ana, Miss. Still   25  female  003\n",
       "6      B.G, Sugarche   27    male  009"
      ]
     },
     "execution_count": 15,
     "metadata": {},
     "output_type": "execute_result"
    }
   ],
   "source": [
    "personnel_it"
   ]
  },
  {
   "cell_type": "code",
   "execution_count": null,
   "id": "333d40f0",
   "metadata": {},
   "outputs": [],
   "source": [
    "personnel_it.download()"
   ]
  },
  {
   "cell_type": "code",
   "execution_count": 18,
   "id": "279f171c",
   "metadata": {},
   "outputs": [],
   "source": [
    "personnel_finance = pd.DataFrame(\n",
    "{\n",
    "    \"Name\":[\"Lelki, Miss. Popova\",\n",
    "           \"Tatyana, E. Newhach\",\n",
    "           \"Taylor, B. Brown\",],\n",
    "    \"Age\":[46, 70, 30],\n",
    "    \"Sex\":[\"female\", \"female\", \"female\"],\n",
    "    \"Id\":[\"007\", \"005\", \"015\"]\n",
    "})"
   ]
  },
  {
   "cell_type": "code",
   "execution_count": 19,
   "id": "2a4936db",
   "metadata": {},
   "outputs": [
    {
     "data": {
      "text/html": [
       "<div>\n",
       "<style scoped>\n",
       "    .dataframe tbody tr th:only-of-type {\n",
       "        vertical-align: middle;\n",
       "    }\n",
       "\n",
       "    .dataframe tbody tr th {\n",
       "        vertical-align: top;\n",
       "    }\n",
       "\n",
       "    .dataframe thead th {\n",
       "        text-align: right;\n",
       "    }\n",
       "</style>\n",
       "<table border=\"1\" class=\"dataframe\">\n",
       "  <thead>\n",
       "    <tr style=\"text-align: right;\">\n",
       "      <th></th>\n",
       "      <th>Name</th>\n",
       "      <th>Age</th>\n",
       "      <th>Sex</th>\n",
       "      <th>Id</th>\n",
       "    </tr>\n",
       "  </thead>\n",
       "  <tbody>\n",
       "    <tr>\n",
       "      <th>0</th>\n",
       "      <td>Lelki, Miss. Popova</td>\n",
       "      <td>46</td>\n",
       "      <td>female</td>\n",
       "      <td>007</td>\n",
       "    </tr>\n",
       "    <tr>\n",
       "      <th>1</th>\n",
       "      <td>Tatyana, E. Newhach</td>\n",
       "      <td>70</td>\n",
       "      <td>female</td>\n",
       "      <td>005</td>\n",
       "    </tr>\n",
       "    <tr>\n",
       "      <th>2</th>\n",
       "      <td>Taylor, B. Brown</td>\n",
       "      <td>30</td>\n",
       "      <td>female</td>\n",
       "      <td>015</td>\n",
       "    </tr>\n",
       "  </tbody>\n",
       "</table>\n",
       "</div>"
      ],
      "text/plain": [
       "                  Name  Age     Sex   Id\n",
       "0  Lelki, Miss. Popova   46  female  007\n",
       "1  Tatyana, E. Newhach   70  female  005\n",
       "2     Taylor, B. Brown   30  female  015"
      ]
     },
     "execution_count": 19,
     "metadata": {},
     "output_type": "execute_result"
    }
   ],
   "source": [
    "personnel_finance"
   ]
  },
  {
   "cell_type": "code",
   "execution_count": 21,
   "id": "0137bc39",
   "metadata": {},
   "outputs": [],
   "source": [
    "personnel_management = pd.DataFrame(\n",
    "{\n",
    "    \"Name\":[\"Drakon, R. Oshishani\"],\n",
    "    \"Age\":[46],\n",
    "    \"Sex\":[\"male\"],\n",
    "    \"Id\":[\"001\"]\n",
    "})"
   ]
  },
  {
   "cell_type": "code",
   "execution_count": 22,
   "id": "e6953247",
   "metadata": {},
   "outputs": [
    {
     "data": {
      "text/html": [
       "<div>\n",
       "<style scoped>\n",
       "    .dataframe tbody tr th:only-of-type {\n",
       "        vertical-align: middle;\n",
       "    }\n",
       "\n",
       "    .dataframe tbody tr th {\n",
       "        vertical-align: top;\n",
       "    }\n",
       "\n",
       "    .dataframe thead th {\n",
       "        text-align: right;\n",
       "    }\n",
       "</style>\n",
       "<table border=\"1\" class=\"dataframe\">\n",
       "  <thead>\n",
       "    <tr style=\"text-align: right;\">\n",
       "      <th></th>\n",
       "      <th>Name</th>\n",
       "      <th>Age</th>\n",
       "      <th>Sex</th>\n",
       "      <th>Id</th>\n",
       "    </tr>\n",
       "  </thead>\n",
       "  <tbody>\n",
       "    <tr>\n",
       "      <th>0</th>\n",
       "      <td>Drakon, R. Oshishani</td>\n",
       "      <td>46</td>\n",
       "      <td>male</td>\n",
       "      <td>001</td>\n",
       "    </tr>\n",
       "  </tbody>\n",
       "</table>\n",
       "</div>"
      ],
      "text/plain": [
       "                   Name  Age   Sex   Id\n",
       "0  Drakon, R. Oshishani   46  male  001"
      ]
     },
     "execution_count": 22,
     "metadata": {},
     "output_type": "execute_result"
    }
   ],
   "source": [
    "personnel_management"
   ]
  },
  {
   "cell_type": "code",
   "execution_count": null,
   "id": "7cd978e5",
   "metadata": {},
   "outputs": [],
   "source": []
  }
 ],
 "metadata": {
  "kernelspec": {
   "display_name": "Python 3 (ipykernel)",
   "language": "python",
   "name": "python3"
  },
  "language_info": {
   "codemirror_mode": {
    "name": "ipython",
    "version": 3
   },
   "file_extension": ".py",
   "mimetype": "text/x-python",
   "name": "python",
   "nbconvert_exporter": "python",
   "pygments_lexer": "ipython3",
   "version": "3.9.12"
  }
 },
 "nbformat": 4,
 "nbformat_minor": 5
}
